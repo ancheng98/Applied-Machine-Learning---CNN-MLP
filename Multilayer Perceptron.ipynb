{
 "cells": [
  {
   "cell_type": "code",
   "execution_count": 1,
   "metadata": {},
   "outputs": [
    {
     "name": "stderr",
     "output_type": "stream",
     "text": [
      "Using TensorFlow backend.\n"
     ]
    }
   ],
   "source": [
    "import torch\n",
    "from network import Network\n",
    "from layers import Dense, Activation\n",
    "import utils"
   ]
  },
  {
   "cell_type": "code",
   "execution_count": 2,
   "metadata": {},
   "outputs": [
    {
     "name": "stdout",
     "output_type": "stream",
     "text": [
      "Device currently used: GeForce RTX 2080 Ti\n"
     ]
    }
   ],
   "source": [
    "utils.use_gpu()"
   ]
  },
  {
   "cell_type": "code",
   "execution_count": 3,
   "metadata": {},
   "outputs": [
    {
     "name": "stdout",
     "output_type": "stream",
     "text": [
      "CIFAR-10 dataset has been loaded...\n",
      "Size of the training set: (50000, 3072), (50000, 10)\n",
      "Size of the test set: (10000, 3072), (10000, 10)\n"
     ]
    }
   ],
   "source": [
    "X_train, y_train, X_test, y_test = utils.load_cifar10()"
   ]
  },
  {
   "cell_type": "code",
   "execution_count": 4,
   "metadata": {},
   "outputs": [],
   "source": [
    "net = Network()\n",
    "net.add(Dense(X_train.shape[1], 1024))\n",
    "net.add(Activation('sigmoid'))\n",
    "net.add(Dense(1024, 512))\n",
    "net.add(Activation('sigmoid'))\n",
    "net.add(Dense(512, 256))\n",
    "net.add(Activation('sigmoid'))\n",
    "net.add(Dense(256, 10))\n",
    "net.add(Activation('softmax'))"
   ]
  },
  {
   "cell_type": "code",
   "execution_count": 5,
   "metadata": {},
   "outputs": [
    {
     "name": "stdout",
     "output_type": "stream",
     "text": [
      "=============== Epoch 10 ===============\n",
      "Train: cost = 2.0412, accuracy = 25.70%\n",
      "Test: cost = 1.9896, accuracy = 25.76%\n",
      "=============== Epoch 20 ===============\n",
      "Train: cost = 1.9492, accuracy = 27.71%\n",
      "Test: cost = 1.9294, accuracy = 27.99%\n",
      "=============== Epoch 30 ===============\n",
      "Train: cost = 1.9039, accuracy = 31.19%\n",
      "Test: cost = 1.8703, accuracy = 31.15%\n",
      "=============== Epoch 40 ===============\n",
      "Train: cost = 1.8685, accuracy = 31.00%\n",
      "Test: cost = 1.8461, accuracy = 30.89%\n",
      "=============== Epoch 50 ===============\n",
      "Train: cost = 1.8394, accuracy = 35.41%\n",
      "Test: cost = 1.7859, accuracy = 35.82%\n",
      "=============== Epoch 60 ===============\n",
      "Train: cost = 1.8134, accuracy = 34.84%\n",
      "Test: cost = 1.7854, accuracy = 34.83%\n",
      "=============== Epoch 70 ===============\n",
      "Train: cost = 1.7904, accuracy = 36.98%\n",
      "Test: cost = 1.7517, accuracy = 37.08%\n",
      "=============== Epoch 80 ===============\n",
      "Train: cost = 1.7715, accuracy = 37.65%\n",
      "Test: cost = 1.7228, accuracy = 37.47%\n",
      "=============== Epoch 90 ===============\n",
      "Train: cost = 1.7465, accuracy = 38.80%\n",
      "Test: cost = 1.6949, accuracy = 39.24%\n",
      "=============== Epoch 100 ===============\n",
      "Train: cost = 1.7250, accuracy = 38.57%\n",
      "Test: cost = 1.6870, accuracy = 38.86%\n",
      "=============== Epoch 110 ===============\n",
      "Train: cost = 1.7071, accuracy = 40.05%\n",
      "Test: cost = 1.6593, accuracy = 39.80%\n",
      "=============== Epoch 120 ===============\n",
      "Train: cost = 1.6927, accuracy = 40.73%\n",
      "Test: cost = 1.6353, accuracy = 41.40%\n",
      "=============== Epoch 130 ===============\n",
      "Train: cost = 1.6807, accuracy = 41.81%\n",
      "Test: cost = 1.6215, accuracy = 41.60%\n",
      "=============== Epoch 140 ===============\n",
      "Train: cost = 1.6625, accuracy = 42.13%\n",
      "Test: cost = 1.6145, accuracy = 42.22%\n",
      "=============== Epoch 150 ===============\n",
      "Train: cost = 1.6500, accuracy = 43.24%\n",
      "Test: cost = 1.5907, accuracy = 43.27%\n",
      "=============== Epoch 160 ===============\n",
      "Train: cost = 1.6381, accuracy = 43.78%\n",
      "Test: cost = 1.5842, accuracy = 43.68%\n",
      "=============== Epoch 170 ===============\n",
      "Train: cost = 1.6267, accuracy = 43.80%\n",
      "Test: cost = 1.5770, accuracy = 43.39%\n",
      "=============== Epoch 180 ===============\n",
      "Train: cost = 1.6170, accuracy = 43.58%\n",
      "Test: cost = 1.5868, accuracy = 43.31%\n",
      "=============== Epoch 190 ===============\n",
      "Train: cost = 1.6072, accuracy = 44.60%\n",
      "Test: cost = 1.5559, accuracy = 44.24%\n",
      "=============== Epoch 200 ===============\n",
      "Train: cost = 1.5939, accuracy = 44.67%\n",
      "Test: cost = 1.5510, accuracy = 44.02%\n",
      "=============== Epoch 210 ===============\n",
      "Train: cost = 1.5901, accuracy = 45.23%\n",
      "Test: cost = 1.5438, accuracy = 44.71%\n",
      "=============== Epoch 220 ===============\n",
      "Train: cost = 1.5823, accuracy = 46.26%\n",
      "Test: cost = 1.5219, accuracy = 46.17%\n",
      "=============== Epoch 230 ===============\n",
      "Train: cost = 1.5685, accuracy = 46.12%\n",
      "Test: cost = 1.5276, accuracy = 45.25%\n",
      "=============== Epoch 240 ===============\n",
      "Train: cost = 1.5607, accuracy = 46.19%\n",
      "Test: cost = 1.5209, accuracy = 45.79%\n",
      "=============== Epoch 250 ===============\n",
      "Train: cost = 1.5530, accuracy = 46.82%\n",
      "Test: cost = 1.5068, accuracy = 46.16%\n",
      "=============== Epoch 260 ===============\n",
      "Train: cost = 1.5492, accuracy = 47.56%\n",
      "Test: cost = 1.4932, accuracy = 46.74%\n",
      "=============== Epoch 270 ===============\n",
      "Train: cost = 1.5420, accuracy = 47.16%\n",
      "Test: cost = 1.4989, accuracy = 46.27%\n",
      "=============== Epoch 280 ===============\n",
      "Train: cost = 1.5341, accuracy = 47.54%\n",
      "Test: cost = 1.4882, accuracy = 46.81%\n",
      "=============== Epoch 290 ===============\n",
      "Train: cost = 1.5276, accuracy = 47.95%\n",
      "Test: cost = 1.4794, accuracy = 47.10%\n",
      "=============== Epoch 300 ===============\n",
      "Train: cost = 1.5236, accuracy = 48.41%\n",
      "Test: cost = 1.4708, accuracy = 47.46%\n"
     ]
    }
   ],
   "source": [
    "net.set_loss('softmax_crossentropy')\n",
    "train_costs, train_accs, test_costs, test_accs = net.fit(X_train, y_train, test_data=(X_test, y_test),\n",
    "                                                         batch_size=64,\n",
    "                                                         num_epochs=300,\n",
    "                                                         learning_rate=0.05,\n",
    "                                                         momentum=0.9,\n",
    "                                                         keep_prob=0.9)"
   ]
  },
  {
   "cell_type": "code",
   "execution_count": 6,
   "metadata": {},
   "outputs": [],
   "source": [
    "import matplotlib\n",
    "import matplotlib.pyplot as plt\n",
    "%matplotlib inline"
   ]
  },
  {
   "cell_type": "code",
   "execution_count": 7,
   "metadata": {},
   "outputs": [
    {
     "data": {
      "image/png": "[encoded data removed]",
      "text/plain": [
       "<Figure size 432x288 with 2 Axes>"
      ]
     },
     "metadata": {
      "needs_background": "light"
     },
     "output_type": "display_data"
    }
   ],
   "source": [
    "fig, (ax1, ax2) = plt.subplots(1, 2)\n",
    "# Plot 1: cost-epoch\n",
    "ax1.plot(train_costs)\n",
    "ax1.plot(test_costs)\n",
    "ax1.set_xlabel('Epoch')\n",
    "ax1.set_ylabel('Cost')\n",
    "ax1.legend(['training', 'test'])\n",
    "# Plot 2: accuracy-epoch\n",
    "ax2.plot(train_accs)\n",
    "ax2.plot(test_accs)\n",
    "ax2.set_xlabel('Epoch')\n",
    "ax2.set_ylabel('Accuracy')\n",
    "ax2.legend(['training', 'test'])\n",
    "\n",
    "fig.tight_layout(pad=0.5)\n",
    "plt.show()"
   ]
  },
  {
   "cell_type": "code",
   "execution_count": 8,
   "metadata": {},
   "outputs": [],
   "source": [
    "import csv"
   ]
  },
  {
   "cell_type": "code",
   "execution_count": 9,
   "metadata": {},
   "outputs": [],
   "source": [
    "def output_log(train_costs, train_accs, test_costs, test_accs):\n",
    "    with open('MLP.csv', 'w', newline='') as csvfile:\n",
    "        writer = csv.writer(csvfile, delimiter=',')\n",
    "        for epoch in range(len(train_costs)):\n",
    "            writer.writerow([epoch + 1, train_costs[epoch], train_accs[epoch], test_costs[epoch], test_accs[epoch]])"
   ]
  },
  {
   "cell_type": "code",
   "execution_count": 10,
   "metadata": {},
   "outputs": [],
   "source": [
    "output_log(train_costs, train_accs, test_costs, test_accs)"
   ]
  },
  {
   "cell_type": "code",
   "execution_count": null,
   "metadata": {},
   "outputs": [],
   "source": []
  }
 ],
 "metadata": {
  "kernelspec": {
   "display_name": "Python 3",
   "language": "python",
   "name": "python3"
  },
  "language_info": {
   "codemirror_mode": {
    "name": "ipython",
    "version": 3
   },
   "file_extension": ".py",
   "mimetype": "text/x-python",
   "name": "python",
   "nbconvert_exporter": "python",
   "pygments_lexer": "ipython3",
   "version": "3.7.7"
  }
 },
 "nbformat": 4,
 "nbformat_minor": 4
}
